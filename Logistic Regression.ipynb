{
 "cells": [
  {
   "cell_type": "code",
   "execution_count": 1,
   "id": "6cb30a70",
   "metadata": {},
   "outputs": [],
   "source": [
    "import pickle\n",
    "\n",
    "import numpy as np\n",
    "import pandas as pd\n",
    "from sklearn.feature_extraction.text import CountVectorizer\n",
    "from sklearn.linear_model import LogisticRegression\n",
    "from sklearn.metrics import ConfusionMatrixDisplay, accuracy_score, classification_report, f1_score, log_loss, precision_score, recall_score\n",
    "from sklearn.model_selection import train_test_split\n",
    "\n",
    "import modelmetrics"
   ]
  },
  {
   "cell_type": "markdown",
   "id": "bf5ec035",
   "metadata": {},
   "source": [
    "# In this chapter, we're using Logistic Regression \n",
    "It works by modeling the probability of a sentiment label positive,negative or neutra.\n",
    "Overall,logistic regression is a simple yet effective algorithm for sentiment analysis that can be applied to a wide range of datasets and text data."
   ]
  },
  {
   "cell_type": "code",
   "execution_count": 2,
   "id": "a6971010",
   "metadata": {
    "scrolled": false
   },
   "outputs": [
    {
     "data": {
      "text/html": [
       "<div>\n",
       "<style scoped>\n",
       "    .dataframe tbody tr th:only-of-type {\n",
       "        vertical-align: middle;\n",
       "    }\n",
       "\n",
       "    .dataframe tbody tr th {\n",
       "        vertical-align: top;\n",
       "    }\n",
       "\n",
       "    .dataframe thead th {\n",
       "        text-align: right;\n",
       "    }\n",
       "</style>\n",
       "<table border=\"1\" class=\"dataframe\">\n",
       "  <thead>\n",
       "    <tr style=\"text-align: right;\">\n",
       "      <th></th>\n",
       "      <th>company</th>\n",
       "      <th>title</th>\n",
       "      <th>body</th>\n",
       "      <th>rating</th>\n",
       "      <th>sentiment</th>\n",
       "      <th>predicted</th>\n",
       "      <th>prob_pos</th>\n",
       "      <th>prob_neu</th>\n",
       "      <th>prob_neg\\r</th>\n",
       "    </tr>\n",
       "  </thead>\n",
       "  <tbody>\n",
       "    <tr>\n",
       "      <th>0</th>\n",
       "      <td>UPS</td>\n",
       "      <td>forkert adresse måtte selv hente den det rigti...</td>\n",
       "      <td>Jeg bestilte nogle Nike sko, hvorefter der sto...</td>\n",
       "      <td>1</td>\n",
       "      <td>-1</td>\n",
       "      <td>neutral</td>\n",
       "      <td>0.011</td>\n",
       "      <td>0.986</td>\n",
       "      <td>0.003</td>\n",
       "    </tr>\n",
       "    <tr>\n",
       "      <th>1</th>\n",
       "      <td>UPS</td>\n",
       "      <td>Værste amatør nogensinde</td>\n",
       "      <td>Værste amatør nogensinde. Allerede flere gange...</td>\n",
       "      <td>1</td>\n",
       "      <td>-1</td>\n",
       "      <td>negative</td>\n",
       "      <td>0.002</td>\n",
       "      <td>0.001</td>\n",
       "      <td>0.998</td>\n",
       "    </tr>\n",
       "    <tr>\n",
       "      <th>2</th>\n",
       "      <td>UPS</td>\n",
       "      <td>Virkelig tynd kundeservice</td>\n",
       "      <td>Virkelig tynd kundeservice. Kan ikke sende et ...</td>\n",
       "      <td>1</td>\n",
       "      <td>-1</td>\n",
       "      <td>negative</td>\n",
       "      <td>0.022</td>\n",
       "      <td>0.001</td>\n",
       "      <td>0.978</td>\n",
       "    </tr>\n",
       "    <tr>\n",
       "      <th>3</th>\n",
       "      <td>PostNord i Danmark</td>\n",
       "      <td>Præcision og hurtig levering</td>\n",
       "      <td>Præcision og hurtig levering</td>\n",
       "      <td>5</td>\n",
       "      <td>1</td>\n",
       "      <td>positive</td>\n",
       "      <td>0.914</td>\n",
       "      <td>0.081</td>\n",
       "      <td>0.004</td>\n",
       "    </tr>\n",
       "    <tr>\n",
       "      <th>4</th>\n",
       "      <td>UPS</td>\n",
       "      <td>😡 UPS, aldrig igen!</td>\n",
       "      <td>Hold da op!Hvad sker der for UPS? Kundeservice...</td>\n",
       "      <td>1</td>\n",
       "      <td>-1</td>\n",
       "      <td>positive</td>\n",
       "      <td>0.798</td>\n",
       "      <td>0.110</td>\n",
       "      <td>0.092</td>\n",
       "    </tr>\n",
       "    <tr>\n",
       "      <th>...</th>\n",
       "      <td>...</td>\n",
       "      <td>...</td>\n",
       "      <td>...</td>\n",
       "      <td>...</td>\n",
       "      <td>...</td>\n",
       "      <td>...</td>\n",
       "      <td>...</td>\n",
       "      <td>...</td>\n",
       "      <td>...</td>\n",
       "    </tr>\n",
       "    <tr>\n",
       "      <th>595</th>\n",
       "      <td>PostNord i Danmark</td>\n",
       "      <td>God information og hurtig levering</td>\n",
       "      <td>God information og hurtig levering</td>\n",
       "      <td>5</td>\n",
       "      <td>1</td>\n",
       "      <td>positive</td>\n",
       "      <td>0.977</td>\n",
       "      <td>0.023</td>\n",
       "      <td>0.001</td>\n",
       "    </tr>\n",
       "    <tr>\n",
       "      <th>596</th>\n",
       "      <td>PostNord i Danmark</td>\n",
       "      <td>Som altid perfekt kh louise</td>\n",
       "      <td>Som altid perfekt kh louise</td>\n",
       "      <td>5</td>\n",
       "      <td>1</td>\n",
       "      <td>positive</td>\n",
       "      <td>0.999</td>\n",
       "      <td>0.000</td>\n",
       "      <td>0.001</td>\n",
       "    </tr>\n",
       "    <tr>\n",
       "      <th>597</th>\n",
       "      <td>UPS</td>\n",
       "      <td>frem og tilbage uden problemer</td>\n",
       "      <td>Jamen....der er ikke så meget at sige end...BR...</td>\n",
       "      <td>5</td>\n",
       "      <td>1</td>\n",
       "      <td>positive</td>\n",
       "      <td>0.963</td>\n",
       "      <td>0.022</td>\n",
       "      <td>0.015</td>\n",
       "    </tr>\n",
       "    <tr>\n",
       "      <th>598</th>\n",
       "      <td>UPS</td>\n",
       "      <td>Pakkemanden vil hellere udfylde en …</td>\n",
       "      <td>Pakkemanden vil hellere udfylde en seddel end ...</td>\n",
       "      <td>1</td>\n",
       "      <td>-1</td>\n",
       "      <td>neutral</td>\n",
       "      <td>0.017</td>\n",
       "      <td>0.921</td>\n",
       "      <td>0.062</td>\n",
       "    </tr>\n",
       "    <tr>\n",
       "      <th>599</th>\n",
       "      <td>PostNord i Danmark</td>\n",
       "      <td>Hurtig levering</td>\n",
       "      <td>Hurtig levering</td>\n",
       "      <td>5</td>\n",
       "      <td>1</td>\n",
       "      <td>positive</td>\n",
       "      <td>0.953</td>\n",
       "      <td>0.045</td>\n",
       "      <td>0.002</td>\n",
       "    </tr>\n",
       "  </tbody>\n",
       "</table>\n",
       "<p>600 rows × 9 columns</p>\n",
       "</div>"
      ],
      "text/plain": [
       "                company                                              title  \\\n",
       "0                   UPS  forkert adresse måtte selv hente den det rigti...   \n",
       "1                   UPS                           Værste amatør nogensinde   \n",
       "2                   UPS                         Virkelig tynd kundeservice   \n",
       "3    PostNord i Danmark                       Præcision og hurtig levering   \n",
       "4                   UPS                                😡 UPS, aldrig igen!   \n",
       "..                  ...                                                ...   \n",
       "595  PostNord i Danmark                 God information og hurtig levering   \n",
       "596  PostNord i Danmark                        Som altid perfekt kh louise   \n",
       "597                 UPS                     frem og tilbage uden problemer   \n",
       "598                 UPS               Pakkemanden vil hellere udfylde en …   \n",
       "599  PostNord i Danmark                                    Hurtig levering   \n",
       "\n",
       "                                                  body  rating  sentiment  \\\n",
       "0    Jeg bestilte nogle Nike sko, hvorefter der sto...       1         -1   \n",
       "1    Værste amatør nogensinde. Allerede flere gange...       1         -1   \n",
       "2    Virkelig tynd kundeservice. Kan ikke sende et ...       1         -1   \n",
       "3                         Præcision og hurtig levering       5          1   \n",
       "4    Hold da op!Hvad sker der for UPS? Kundeservice...       1         -1   \n",
       "..                                                 ...     ...        ...   \n",
       "595                 God information og hurtig levering       5          1   \n",
       "596                        Som altid perfekt kh louise       5          1   \n",
       "597  Jamen....der er ikke så meget at sige end...BR...       5          1   \n",
       "598  Pakkemanden vil hellere udfylde en seddel end ...       1         -1   \n",
       "599                                    Hurtig levering       5          1   \n",
       "\n",
       "    predicted  prob_pos  prob_neu  prob_neg\\r  \n",
       "0     neutral     0.011     0.986       0.003  \n",
       "1    negative     0.002     0.001       0.998  \n",
       "2    negative     0.022     0.001       0.978  \n",
       "3    positive     0.914     0.081       0.004  \n",
       "4    positive     0.798     0.110       0.092  \n",
       "..        ...       ...       ...         ...  \n",
       "595  positive     0.977     0.023       0.001  \n",
       "596  positive     0.999     0.000       0.001  \n",
       "597  positive     0.963     0.022       0.015  \n",
       "598   neutral     0.017     0.921       0.062  \n",
       "599  positive     0.953     0.045       0.002  \n",
       "\n",
       "[600 rows x 9 columns]"
      ]
     },
     "execution_count": 2,
     "metadata": {},
     "output_type": "execute_result"
    }
   ],
   "source": [
    "data = pd.read_csv('Data/dacy_sentiment.csv', lineterminator='\\n')\n",
    "sentiment_map = {'positive': 1, 'neutral': 0, 'negative': -1}\n",
    "data['sentiment'] = data['sentiment'].replace(sentiment_map)\n",
    "data"
   ]
  },
  {
   "cell_type": "markdown",
   "id": "4f60a890",
   "metadata": {},
   "source": [
    "## Training and testing the model\n",
    "\n",
    "In this process, we are training a logistic regression classifier on a dataset of customer reviews to predict the sentiment of new, previously unseen reviews.\n",
    "\n",
    "First, we split the dataset into a training set and a test set using the sample() and drop() methods from pandas. Then, we create a CountVectorizer object to convert the text data into a bag-of-words representation, which counts the occurrence of each word in the text. We fit the vectorizer on the training set and use it to transform both the training and test sets into vectors of word counts.\n",
    "\n",
    "Next, we train the LogisticRegression classifier on the training vectors and corresponding sentiment labels. We use the trained classifier to predict the sentiment of a new, previously unseen review by converting it into a vector using the same vectorizer, and then calling predict() on the classifier object.\n",
    "\n",
    "Finally, we print the predicted sentiment, as well as the actual review (if it was predicted to be negative) and the counts of each sentiment label in the dataset.\n",
    "\n",
    "Overall, this process demonstrates a basic workflow for sentiment analysis using a logistic regression classifier and bag-of-words representations."
   ]
  },
  {
   "cell_type": "code",
   "execution_count": 3,
   "id": "376ae107",
   "metadata": {},
   "outputs": [
    {
     "name": "stdout",
     "output_type": "stream",
     "text": [
      " 1    332\n",
      "-1    250\n",
      " 0     18\n",
      "Name: sentiment, dtype: int64\n",
      "Positive sentiment\n"
     ]
    }
   ],
   "source": [
    "train_data = data.sample(frac=0.8, random_state=42)\n",
    "test_data = data.drop(train_data.index)\n",
    "\n",
    "vectorizer = CountVectorizer(token_pattern=r'\\b\\w+\\b', max_features=1000)\n",
    "train_vectors = vectorizer.fit_transform(train_data['body'])\n",
    "test_vectors = vectorizer.transform(test_data['body'])\n",
    "\n",
    "clf = LogisticRegression(random_state=42)\n",
    "clf.fit(train_vectors, train_data['sentiment'])\n",
    "\n",
    "#new_review = data.loc[1, 'body']\n",
    "new_review = \"Bedste levering, super godt arbejde af postnord, lige til tiden\"\n",
    "new_review_vector = vectorizer.transform([new_review])\n",
    "predicted_sentiment = clf.predict(new_review_vector)[0]\n",
    "\n",
    "#Tjekker hvor mange af hver der\n",
    "sentiment_counts = data['sentiment'].value_counts()\n",
    "print(sentiment_counts)\n",
    "\n",
    "if predicted_sentiment == 1:\n",
    "    print(\"Positive sentiment\")\n",
    "elif predicted_sentiment == 0:\n",
    "    print(\"Neutral sentiment\")\n",
    "else:\n",
    "    print(\"Negative sentiment\")\n",
    "    #print(\"Actual: \", data.loc[1,'body'])"
   ]
  },
  {
   "cell_type": "code",
   "execution_count": 4,
   "id": "4a842415",
   "metadata": {},
   "outputs": [
    {
     "name": "stdout",
     "output_type": "stream",
     "text": [
      "              precision    recall  f1-score   support\n",
      "\n",
      "    Negative       0.94      0.92      0.93        52\n",
      "     Neutral       0.00      0.00      0.00         4\n",
      "    Positive       0.90      0.95      0.92        64\n",
      "\n",
      "    accuracy                           0.91       120\n",
      "   macro avg       0.61      0.63      0.62       120\n",
      "weighted avg       0.89      0.91      0.90       120\n",
      "\n"
     ]
    }
   ],
   "source": [
    "y_true = test_data['sentiment']\n",
    "y_pred = clf.predict(test_vectors)\n",
    "probs = clf.predict_proba(test_vectors)\n",
    "\n",
    "report = classification_report(y_true, y_pred, target_names=['Negative', 'Neutral', 'Positive'])\n",
    "print(report)"
   ]
  },
  {
   "cell_type": "code",
   "execution_count": 5,
   "id": "7293b735",
   "metadata": {},
   "outputs": [
    {
     "data": {
      "text/plain": [
       "0.32219955297612185"
      ]
     },
     "execution_count": 5,
     "metadata": {},
     "output_type": "execute_result"
    }
   ],
   "source": [
    "log_loss_test = log_loss(y_true, probs)\n",
    "log_loss_test"
   ]
  },
  {
   "cell_type": "code",
   "execution_count": null,
   "id": "e44af5f7",
   "metadata": {},
   "outputs": [],
   "source": [
    "print('Accuracy:', accuracy_score(y_true, y_pred))\n",
    "print('Precision:', precision_score(y_true, y_pred))\n",
    "print('Recall:', recall_score(y_true, y_pred))\n",
    "print('F1 Score:', f1_score(y_true, y_pred))"
   ]
  },
  {
   "cell_type": "code",
   "execution_count": 7,
   "id": "8fceeae7",
   "metadata": {},
   "outputs": [
    {
     "data": {
      "text/plain": [
       "<sklearn.metrics._plot.confusion_matrix.ConfusionMatrixDisplay at 0x2761468b550>"
      ]
     },
     "execution_count": 7,
     "metadata": {},
     "output_type": "execute_result"
    },
    {
     "data": {
      "image/png": "[encoded data removed]",
      "text/plain": [
       "<Figure size 640x480 with 2 Axes>"
      ]
     },
     "metadata": {},
     "output_type": "display_data"
    }
   ],
   "source": [
    "ConfusionMatrixDisplay.from_predictions(y_true, y_pred, display_labels=['Negative', 'Neutral', 'Positive'])"
   ]
  },
  {
   "cell_type": "markdown",
   "id": "0bf6e2bb",
   "metadata": {},
   "source": [
    "Save the performance metrics to a file."
   ]
  },
  {
   "cell_type": "code",
   "execution_count": 8,
   "id": "a828fa75",
   "metadata": {},
   "outputs": [],
   "source": [
    "report = classification_report(y_true, y_pred, target_names=['negative', 'neutral', 'positive'], output_dict=True)\n",
    "report['log_loss'] = log_loss_test\n",
    "modelmetrics.save_to_file('Data/metrics.csv', 'LogisticRegression', report)"
   ]
  },
  {
   "cell_type": "markdown",
   "id": "ca41b562",
   "metadata": {},
   "source": [
    "Also save the models so we can use them again later if needed."
   ]
  },
  {
   "cell_type": "code",
   "execution_count": 9,
   "id": "3589be97",
   "metadata": {},
   "outputs": [],
   "source": [
    "with open('Models/logreg_count_vec.pkl', 'wb') as f:\n",
    "    pickle.dump(vectorizer, f)\n",
    "with open('Models/logreg_model.pkl', 'wb') as f:\n",
    "    pickle.dump(clf, f)"
   ]
  }
 ],
 "metadata": {
  "kernelspec": {
   "display_name": "Python 3 (ipykernel)",
   "language": "python",
   "name": "python3"
  },
  "language_info": {
   "codemirror_mode": {
    "name": "ipython",
    "version": 3
   },
   "file_extension": ".py",
   "mimetype": "text/x-python",
   "name": "python",
   "nbconvert_exporter": "python",
   "pygments_lexer": "ipython3",
   "version": "3.10.9"
  }
 },
 "nbformat": 4,
 "nbformat_minor": 5
}
