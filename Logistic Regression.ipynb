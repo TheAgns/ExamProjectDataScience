{
 "cells": [
  {
   "cell_type": "code",
   "execution_count": 10,
   "id": "6cb30a70",
   "metadata": {},
   "outputs": [],
   "source": [
    "import pandas as pd\n",
    "import numpy as np\n",
    "\n",
    "from sklearn.feature_extraction.text import CountVectorizer\n",
    "from sklearn.linear_model import LogisticRegression\n",
    "from sklearn.metrics import classification_report\n",
    "from sklearn.model_selection import train_test_split\n",
    "from sklearn.metrics import accuracy_score, precision_score, recall_score, f1_score, log_loss, ConfusionMatrixDisplay\n",
    "\n",
    "import modelmetrics"
   ]
  },
  {
   "attachments": {},
   "cell_type": "markdown",
   "id": "bf5ec035",
   "metadata": {},
   "source": [
    "# In this chapter, we're using Logistic Regression \n",
    "It works by modeling the probability of a sentiment label positive,negative or neutra.\n",
    "Overall,logistic regression is a simple yet effective algorithm for sentiment analysis that can be applied to a wide range of datasets and text data."
   ]
  },
  {
   "cell_type": "code",
   "execution_count": 2,
   "id": "a6971010",
   "metadata": {
    "scrolled": false
   },
   "outputs": [
    {
     "data": {
      "text/html": [
       "<div>\n",
       "<style scoped>\n",
       "    .dataframe tbody tr th:only-of-type {\n",
       "        vertical-align: middle;\n",
       "    }\n",
       "\n",
       "    .dataframe tbody tr th {\n",
       "        vertical-align: top;\n",
       "    }\n",
       "\n",
       "    .dataframe thead th {\n",
       "        text-align: right;\n",
       "    }\n",
       "</style>\n",
       "<table border=\"1\" class=\"dataframe\">\n",
       "  <thead>\n",
       "    <tr style=\"text-align: right;\">\n",
       "      <th></th>\n",
       "      <th>title</th>\n",
       "      <th>body</th>\n",
       "      <th>rating</th>\n",
       "      <th>sentiment</th>\n",
       "      <th>predicted</th>\n",
       "      <th>prob_pos</th>\n",
       "      <th>prob_neu</th>\n",
       "      <th>prob_neg</th>\n",
       "    </tr>\n",
       "  </thead>\n",
       "  <tbody>\n",
       "    <tr>\n",
       "      <th>0</th>\n",
       "      <td>Der var service på i dag</td>\n",
       "      <td>Der var service på i dag, det var dejligt.  Så...</td>\n",
       "      <td>5</td>\n",
       "      <td>1</td>\n",
       "      <td>positive</td>\n",
       "      <td>0.999</td>\n",
       "      <td>0.001</td>\n",
       "      <td>0.001</td>\n",
       "    </tr>\n",
       "    <tr>\n",
       "      <th>1</th>\n",
       "      <td>Et af verdens ringeste kurér firmaer</td>\n",
       "      <td>Hvorfor i alverden man vælger at drive et verd...</td>\n",
       "      <td>2</td>\n",
       "      <td>-1</td>\n",
       "      <td>neutral</td>\n",
       "      <td>0.003</td>\n",
       "      <td>0.994</td>\n",
       "      <td>0.003</td>\n",
       "    </tr>\n",
       "    <tr>\n",
       "      <th>2</th>\n",
       "      <td>Rigtig god information om levering😃</td>\n",
       "      <td>Rigtig god information om levering😃</td>\n",
       "      <td>5</td>\n",
       "      <td>1</td>\n",
       "      <td>positive</td>\n",
       "      <td>0.927</td>\n",
       "      <td>0.072</td>\n",
       "      <td>0.001</td>\n",
       "    </tr>\n",
       "    <tr>\n",
       "      <th>3</th>\n",
       "      <td>Meget hjælpsom chauffør</td>\n",
       "      <td>Meget hjælpsom chauffør. Pakken kom til den af...</td>\n",
       "      <td>5</td>\n",
       "      <td>1</td>\n",
       "      <td>positive</td>\n",
       "      <td>0.981</td>\n",
       "      <td>0.017</td>\n",
       "      <td>0.003</td>\n",
       "    </tr>\n",
       "    <tr>\n",
       "      <th>4</th>\n",
       "      <td>Pakken kom fuldstændig som forventet.</td>\n",
       "      <td>Pakken kom fuldstændig som forventet.</td>\n",
       "      <td>3</td>\n",
       "      <td>0</td>\n",
       "      <td>neutral</td>\n",
       "      <td>0.023</td>\n",
       "      <td>0.964</td>\n",
       "      <td>0.014</td>\n",
       "    </tr>\n",
       "    <tr>\n",
       "      <th>...</th>\n",
       "      <td>...</td>\n",
       "      <td>...</td>\n",
       "      <td>...</td>\n",
       "      <td>...</td>\n",
       "      <td>...</td>\n",
       "      <td>...</td>\n",
       "      <td>...</td>\n",
       "      <td>...</td>\n",
       "    </tr>\n",
       "    <tr>\n",
       "      <th>595</th>\n",
       "      <td>Undgå UPS, og undgå firmaer, der bruger UPS so...</td>\n",
       "      <td>En vare udebliver, men vi får regningen. Vi ri...</td>\n",
       "      <td>1</td>\n",
       "      <td>-1</td>\n",
       "      <td>negative</td>\n",
       "      <td>0.005</td>\n",
       "      <td>0.402</td>\n",
       "      <td>0.593</td>\n",
       "    </tr>\n",
       "    <tr>\n",
       "      <th>596</th>\n",
       "      <td>Uforståelig rundrejse...</td>\n",
       "      <td>Skulle få pakke sendt fra Bergen (Norge) med d...</td>\n",
       "      <td>1</td>\n",
       "      <td>-1</td>\n",
       "      <td>neutral</td>\n",
       "      <td>0.003</td>\n",
       "      <td>0.992</td>\n",
       "      <td>0.005</td>\n",
       "    </tr>\n",
       "    <tr>\n",
       "      <th>597</th>\n",
       "      <td>Virkelig god service -kan klart…</td>\n",
       "      <td>Virkelig god service -kan klart anbefale post ...</td>\n",
       "      <td>5</td>\n",
       "      <td>1</td>\n",
       "      <td>positive</td>\n",
       "      <td>0.999</td>\n",
       "      <td>0.000</td>\n",
       "      <td>0.001</td>\n",
       "    </tr>\n",
       "    <tr>\n",
       "      <th>598</th>\n",
       "      <td>God hurtig Service</td>\n",
       "      <td>God hurtig Service</td>\n",
       "      <td>5</td>\n",
       "      <td>1</td>\n",
       "      <td>positive</td>\n",
       "      <td>0.996</td>\n",
       "      <td>0.004</td>\n",
       "      <td>0.001</td>\n",
       "    </tr>\n",
       "    <tr>\n",
       "      <th>599</th>\n",
       "      <td>useriøst og pinligt!!!</td>\n",
       "      <td>useriøst!Venter en vigtig pakke, og i skriver ...</td>\n",
       "      <td>1</td>\n",
       "      <td>-1</td>\n",
       "      <td>negative</td>\n",
       "      <td>0.003</td>\n",
       "      <td>0.000</td>\n",
       "      <td>0.996</td>\n",
       "    </tr>\n",
       "  </tbody>\n",
       "</table>\n",
       "<p>600 rows × 8 columns</p>\n",
       "</div>"
      ],
      "text/plain": [
       "                                                 title  \\\n",
       "0                             Der var service på i dag   \n",
       "1                 Et af verdens ringeste kurér firmaer   \n",
       "2                  Rigtig god information om levering😃   \n",
       "3                              Meget hjælpsom chauffør   \n",
       "4                Pakken kom fuldstændig som forventet.   \n",
       "..                                                 ...   \n",
       "595  Undgå UPS, og undgå firmaer, der bruger UPS so...   \n",
       "596                           Uforståelig rundrejse...   \n",
       "597                   Virkelig god service -kan klart…   \n",
       "598                                 God hurtig Service   \n",
       "599                             useriøst og pinligt!!!   \n",
       "\n",
       "                                                  body  rating  sentiment  \\\n",
       "0    Der var service på i dag, det var dejligt.  Så...       5          1   \n",
       "1    Hvorfor i alverden man vælger at drive et verd...       2         -1   \n",
       "2                  Rigtig god information om levering😃       5          1   \n",
       "3    Meget hjælpsom chauffør. Pakken kom til den af...       5          1   \n",
       "4                Pakken kom fuldstændig som forventet.       3          0   \n",
       "..                                                 ...     ...        ...   \n",
       "595  En vare udebliver, men vi får regningen. Vi ri...       1         -1   \n",
       "596  Skulle få pakke sendt fra Bergen (Norge) med d...       1         -1   \n",
       "597  Virkelig god service -kan klart anbefale post ...       5          1   \n",
       "598                                 God hurtig Service       5          1   \n",
       "599  useriøst!Venter en vigtig pakke, og i skriver ...       1         -1   \n",
       "\n",
       "    predicted  prob_pos  prob_neu  prob_neg  \n",
       "0    positive     0.999     0.001     0.001  \n",
       "1     neutral     0.003     0.994     0.003  \n",
       "2    positive     0.927     0.072     0.001  \n",
       "3    positive     0.981     0.017     0.003  \n",
       "4     neutral     0.023     0.964     0.014  \n",
       "..        ...       ...       ...       ...  \n",
       "595  negative     0.005     0.402     0.593  \n",
       "596   neutral     0.003     0.992     0.005  \n",
       "597  positive     0.999     0.000     0.001  \n",
       "598  positive     0.996     0.004     0.001  \n",
       "599  negative     0.003     0.000     0.996  \n",
       "\n",
       "[600 rows x 8 columns]"
      ]
     },
     "execution_count": 2,
     "metadata": {},
     "output_type": "execute_result"
    }
   ],
   "source": [
    "data = pd.read_csv('Data/dacy_sentiment.csv', lineterminator='\\n')\n",
    "sentiment_map = {'positive': 1, 'neutral': 0, 'negative': -1}\n",
    "data['sentiment'] = data['sentiment'].replace(sentiment_map)\n",
    "data"
   ]
  },
  {
   "attachments": {},
   "cell_type": "markdown",
   "id": "4f60a890",
   "metadata": {},
   "source": [
    "## Training and testing the model\n",
    "\n",
    "In this process, we are training a logistic regression classifier on a dataset of customer reviews to predict the sentiment of new, previously unseen reviews.\n",
    "\n",
    "First, we split the dataset into a training set and a test set using the sample() and drop() methods from pandas. Then, we create a CountVectorizer object to convert the text data into a bag-of-words representation, which counts the occurrence of each word in the text. We fit the vectorizer on the training set and use it to transform both the training and test sets into vectors of word counts.\n",
    "\n",
    "Next, we train the LogisticRegression classifier on the training vectors and corresponding sentiment labels. We use the trained classifier to predict the sentiment of a new, previously unseen review by converting it into a vector using the same vectorizer, and then calling predict() on the classifier object.\n",
    "\n",
    "Finally, we print the predicted sentiment, as well as the actual review (if it was predicted to be negative) and the counts of each sentiment label in the dataset.\n",
    "\n",
    "Overall, this process demonstrates a basic workflow for sentiment analysis using a logistic regression classifier and bag-of-words representations."
   ]
  },
  {
   "cell_type": "code",
   "execution_count": 3,
   "id": "376ae107",
   "metadata": {},
   "outputs": [
    {
     "name": "stdout",
     "output_type": "stream",
     "text": [
      " 1    362\n",
      "-1    224\n",
      " 0     14\n",
      "Name: sentiment, dtype: int64\n",
      "Positive sentiment\n"
     ]
    }
   ],
   "source": [
    "train_data = data.sample(frac=0.8, random_state=42)\n",
    "test_data = data.drop(train_data.index)\n",
    "\n",
    "vectorizer = CountVectorizer(token_pattern=r'\\b\\w+\\b', max_features=1000)\n",
    "train_vectors = vectorizer.fit_transform(train_data['body'])\n",
    "test_vectors = vectorizer.transform(test_data['body'])\n",
    "\n",
    "clf = LogisticRegression(random_state=42)\n",
    "clf.fit(train_vectors, train_data['sentiment'])\n",
    "\n",
    "#new_review = data.loc[1, 'body']\n",
    "new_review = \"Bedste levering, super godt arbejde af postnord, lige til tiden\"\n",
    "new_review_vector = vectorizer.transform([new_review])\n",
    "predicted_sentiment = clf.predict(new_review_vector)[0]\n",
    "\n",
    "#Tjekker hvor mange af hver der\n",
    "sentiment_counts = data['sentiment'].value_counts()\n",
    "print(sentiment_counts)\n",
    "\n",
    "if predicted_sentiment == 1:\n",
    "    print(\"Positive sentiment\")\n",
    "elif predicted_sentiment == 0:\n",
    "    print(\"Neutral sentiment\")\n",
    "else:\n",
    "    print(\"Negative sentiment\")\n",
    "    #print(\"Actual: \", data.loc[1,'body'])"
   ]
  },
  {
   "cell_type": "code",
   "execution_count": 4,
   "id": "4a842415",
   "metadata": {},
   "outputs": [
    {
     "name": "stdout",
     "output_type": "stream",
     "text": [
      "              precision    recall  f1-score   support\n",
      "\n",
      "    Negative       1.00      0.88      0.94        42\n",
      "     Neutral       0.00      0.00      0.00         1\n",
      "    Positive       0.93      0.99      0.96        77\n",
      "\n",
      "    accuracy                           0.94       120\n",
      "   macro avg       0.64      0.62      0.63       120\n",
      "weighted avg       0.94      0.94      0.94       120\n",
      "\n"
     ]
    }
   ],
   "source": [
    "y_true = test_data['sentiment']\n",
    "y_pred = clf.predict(test_vectors)\n",
    "probs = clf.predict_proba(test_vectors)\n",
    "\n",
    "report = classification_report(y_true, y_pred, target_names=['Negative', 'Neutral', 'Positive'])\n",
    "print(report)"
   ]
  },
  {
   "cell_type": "code",
   "execution_count": 5,
   "id": "7293b735",
   "metadata": {},
   "outputs": [
    {
     "data": {
      "text/plain": [
       "0.17409823830798288"
      ]
     },
     "execution_count": 5,
     "metadata": {},
     "output_type": "execute_result"
    }
   ],
   "source": [
    "log_loss_test = log_loss(y_true, probs)\n",
    "log_loss_test"
   ]
  },
  {
   "cell_type": "code",
   "execution_count": null,
   "id": "e44af5f7",
   "metadata": {},
   "outputs": [],
   "source": [
    "print('Accuracy:', accuracy_score(y_true, y_pred))\n",
    "print('Precision:', precision_score(y_true, y_pred))\n",
    "print('Recall:', recall_score(y_true, y_pred))\n",
    "print('F1 Score:', f1_score(y_true, y_pred))"
   ]
  },
  {
   "cell_type": "code",
   "execution_count": 9,
   "id": "8fceeae7",
   "metadata": {},
   "outputs": [
    {
     "data": {
      "text/plain": [
       "<sklearn.metrics._plot.confusion_matrix.ConfusionMatrixDisplay at 0x251cf1a33a0>"
      ]
     },
     "execution_count": 9,
     "metadata": {},
     "output_type": "execute_result"
    },
    {
     "data": {
      "image/png": "[encoded data removed]",
      "text/plain": [
       "<Figure size 640x480 with 2 Axes>"
      ]
     },
     "metadata": {},
     "output_type": "display_data"
    }
   ],
   "source": [
    "ConfusionMatrixDisplay.from_predictions(y_true, y_pred, display_labels=['Negative', 'Neutral', 'Positive'])"
   ]
  },
  {
   "cell_type": "code",
   "execution_count": 11,
   "id": "a828fa75",
   "metadata": {},
   "outputs": [],
   "source": [
    "report = classification_report(y_true, y_pred, target_names=['negative', 'neutral', 'positive'], output_dict=True)\n",
    "report['log_loss'] = log_loss_test\n",
    "modelmetrics.save_to_file('Data/metrics.csv', 'LogisticRegression', report)"
   ]
  }
 ],
 "metadata": {
  "kernelspec": {
   "display_name": "Python 3 (ipykernel)",
   "language": "python",
   "name": "python3"
  },
  "language_info": {
   "codemirror_mode": {
    "name": "ipython",
    "version": 3
   },
   "file_extension": ".py",
   "mimetype": "text/x-python",
   "name": "python",
   "nbconvert_exporter": "python",
   "pygments_lexer": "ipython3",
   "version": "3.9.16"
  }
 },
 "nbformat": 4,
 "nbformat_minor": 5
}
