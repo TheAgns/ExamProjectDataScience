{
 "cells": [
  {
   "attachments": {},
   "cell_type": "markdown",
   "metadata": {},
   "source": [
    "## Dacy"
   ]
  },
  {
   "attachments": {},
   "cell_type": "markdown",
   "metadata": {},
   "source": [
    "We could use Dacy to exclusively get the embeddings for each document. The idea being that Dacy might produce richer embeddings for Danish specifically. This requires running Dacy on each sample which would take ages.\n",
    "\n",
    "Instead, we can use Dacy's **Sentiment Analysis** extension and compare it to the observed sentiment derived from the rating. This allows us to evaluate whether the pretrained sentiment analysis model is accurate for our data, and we can do so with a fraction of the full dataset."
   ]
  },
  {
   "cell_type": "code",
   "execution_count": 2,
   "metadata": {},
   "outputs": [],
   "source": [
    "import dacy\n",
    "import matplotlib.pyplot as plt\n",
    "import numpy as np\n",
    "import pandas as pd\n",
    "from scipy.interpolate import interp1d\n",
    "from sklearn.metrics import (ConfusionMatrixDisplay, classification_report,\n",
    "                             confusion_matrix, log_loss)\n",
    "\n",
    "import modelmetrics"
   ]
  },
  {
   "attachments": {},
   "cell_type": "markdown",
   "metadata": {},
   "source": [
    "## Data loading\n",
    "If the below steps have already been run, we should have a CSV file that we can load instead. In that case run the cell below and skip ahead to [Evaluation](#Evaluation)."
   ]
  },
  {
   "cell_type": "code",
   "execution_count": 18,
   "metadata": {},
   "outputs": [],
   "source": [
    "df_dacy = pd.read_csv('Data/dacy_sentiment.csv', lineterminator='\\n')\n",
    "y_test = df_dacy['sentiment']\n",
    "y_pred = df_dacy['predicted']"
   ]
  },
  {
   "cell_type": "code",
   "execution_count": 2,
   "metadata": {},
   "outputs": [
    {
     "name": "stdout",
     "output_type": "stream",
     "text": [
      "Collecting da-dacy-medium-trf==any\n",
      "  Downloading https://huggingface.co/chcaa/da_dacy_medium_trf/resolve/61a54ab9e9ab437f5c603c023d4238ecc5bb8eb5/da_dacy_medium_trf-any-py3-none-any.whl (417.8 MB)\n",
      "     ━━━━━━━━━━━━━━━━━━━━━━━━━━━━━━━━━━━━━━━ 417.8/417.8 MB 2.4 MB/s eta 0:00:00\n",
      "Installing collected packages: da-dacy-medium-trf\n",
      "Successfully installed da-dacy-medium-trf-0.1.0\n"
     ]
    },
    {
     "name": "stderr",
     "output_type": "stream",
     "text": [
      "/Users/markusagnsgaard/anaconda3/lib/python3.10/site-packages/spacy/util.py:887: UserWarning: [W095] Model 'da_dacy_medium_trf' (0.1.0) was trained with spaCy v3.1 and may not be 100% compatible with the current version (3.5.2). If you see errors or degraded performance, download a newer compatible model or retrain your custom model with the current spaCy version. For more details and available updates, run: python -m spacy validate\n",
      "  warnings.warn(warn_msg)\n",
      "/Users/markusagnsgaard/anaconda3/lib/python3.10/site-packages/spacy_transformers/pipeline_component.py:402: UserWarning: Automatically converting a transformer component from spacy-transformers v1.0 to v1.1+. If you see errors or degraded performance, download a newer compatible model or retrain your custom model with the current spacy-transformers version. For more details and available updates, run: python -m spacy validate\n",
      "  warnings.warn(warn_msg)\n"
     ]
    }
   ],
   "source": [
    "# nlp = dacy.load('medium', exclude=['tagger', 'parser', 'ner', 'attribute_ruler', 'lemmatizer'])\n",
    "nlp = dacy.load('medium')"
   ]
  },
  {
   "cell_type": "code",
   "execution_count": 26,
   "metadata": {},
   "outputs": [],
   "source": [
    "nlp.add_pipe('dacy/polarity')"
   ]
  },
  {
   "cell_type": "code",
   "execution_count": 4,
   "metadata": {},
   "outputs": [],
   "source": [
    "df = pd.read_csv('Data/trustpilot.csv')"
   ]
  },
  {
   "cell_type": "code",
   "execution_count": 5,
   "metadata": {},
   "outputs": [],
   "source": [
    "df_dacy = df.sample(600, random_state=42)\n",
    "X = df_dacy['body']\n",
    "y_test = df_dacy['sentiment']"
   ]
  },
  {
   "cell_type": "code",
   "execution_count": 6,
   "metadata": {},
   "outputs": [
    {
     "name": "stderr",
     "output_type": "stream",
     "text": [
      "/Users/markusagnsgaard/anaconda3/lib/python3.10/site-packages/spacy/pipeline/attributeruler.py:150: UserWarning: [W036] The component 'matcher' does not have any patterns defined.\n",
      "  matches = self.matcher(doc, allow_missing=True, as_spans=False)\n"
     ]
    }
   ],
   "source": [
    "dacy_docs = list(nlp.pipe(X))"
   ]
  },
  {
   "cell_type": "code",
   "execution_count": 7,
   "metadata": {},
   "outputs": [],
   "source": [
    "y_pred = []\n",
    "probs = []\n",
    "for doc in dacy_docs:\n",
    "    y_pred.append(doc._.polarity)\n",
    "    # probabilities are dict with 'prob': [...] and 'labels': ['positive', 'neutral', 'negative']\n",
    "    probs.append(doc._.polarity_prob['prob'])"
   ]
  },
  {
   "cell_type": "code",
   "execution_count": 8,
   "metadata": {},
   "outputs": [],
   "source": [
    "# several ways of merging this data into the dataframe\n",
    "prob_pos, prob_neu, prob_neg = zip(*probs)\n",
    "df_dacy = df_dacy.assign(predicted=y_pred, prob_pos=prob_pos, prob_neu=prob_neu, prob_neg=prob_neg)"
   ]
  },
  {
   "cell_type": "code",
   "execution_count": 9,
   "metadata": {},
   "outputs": [],
   "source": [
    "df_dacy.to_csv('Data/dacy_sentiment.csv', index=False)"
   ]
  },
  {
   "attachments": {},
   "cell_type": "markdown",
   "metadata": {},
   "source": [
    "## Evaluation"
   ]
  },
  {
   "cell_type": "code",
   "execution_count": 19,
   "metadata": {},
   "outputs": [
    {
     "data": {
      "text/plain": [
       "[]"
      ]
     },
     "execution_count": 19,
     "metadata": {},
     "output_type": "execute_result"
    },
    {
     "data": {
      "image/png": "[encoded data removed]",
      "text/plain": [
       "<Figure size 640x480 with 2 Axes>"
      ]
     },
     "metadata": {},
     "output_type": "display_data"
    }
   ],
   "source": [
    "ConfusionMatrixDisplay.from_predictions(y_test, y_pred)\n",
    "plt.plot()"
   ]
  },
  {
   "attachments": {},
   "cell_type": "markdown",
   "metadata": {},
   "source": [
    "It misclassifies a lot of negatives as neutrals. Maybe if we look at what the prediction probabilities were, we can find a good threshold for when something is negative or not.\n",
    "\n",
    "There's also some bias in that we have very few neutral cases to begin with. Only ratings of 3 are considered neutral, but using neutral language in a negative review is quote common. It can also be explained by ratings of 2 stars leaning more neutral than being truly negative.\n",
    "\n",
    "Other than that, it seems pretty good."
   ]
  },
  {
   "cell_type": "code",
   "execution_count": 20,
   "metadata": {},
   "outputs": [
    {
     "name": "stdout",
     "output_type": "stream",
     "text": [
      "              precision    recall  f1-score   support\n",
      "\n",
      "    negative       0.86      0.57      0.68       224\n",
      "     neutral       0.05      0.57      0.09        14\n",
      "    positive       0.96      0.77      0.85       362\n",
      "\n",
      "    accuracy                           0.69       600\n",
      "   macro avg       0.62      0.64      0.54       600\n",
      "weighted avg       0.90      0.69      0.77       600\n",
      "\n"
     ]
    }
   ],
   "source": [
    "print(classification_report(y_test, y_pred))"
   ]
  },
  {
   "attachments": {},
   "cell_type": "markdown",
   "metadata": {},
   "source": [
    "`log_loss` should factor in the prediction probabilities when calculating performance. We want low loss values."
   ]
  },
  {
   "cell_type": "code",
   "execution_count": 21,
   "metadata": {},
   "outputs": [
    {
     "data": {
      "text/plain": [
       "1.3466174629548413"
      ]
     },
     "execution_count": 21,
     "metadata": {},
     "output_type": "execute_result"
    }
   ],
   "source": [
    "# Need to sort out prob values from the dicts and order them alphabetially by corresponding label\n",
    "log_loss_ = log_loss(y_test, df_dacy[['prob_neg', 'prob_neu', 'prob_pos']])\n",
    "log_loss_"
   ]
  },
  {
   "attachments": {},
   "cell_type": "markdown",
   "metadata": {},
   "source": [
    "Currently, we have no context for what this number means, but we can compare it with other models to see which performs better."
   ]
  },
  {
   "attachments": {},
   "cell_type": "markdown",
   "metadata": {},
   "source": [
    "Let's save these performance metrics for later."
   ]
  },
  {
   "cell_type": "code",
   "execution_count": 22,
   "metadata": {},
   "outputs": [],
   "source": [
    "report = classification_report(y_test, y_pred, output_dict=True)\n",
    "report['log_loss'] = log_loss_\n",
    "modelmetrics.save_to_file('Data/metrics.csv', 'Dacy', report)"
   ]
  },
  {
   "attachments": {},
   "cell_type": "markdown",
   "metadata": {},
   "source": [
    "Now let's inspect what the prediction probabilities were, and where it went wrong."
   ]
  },
  {
   "cell_type": "code",
   "execution_count": 23,
   "metadata": {},
   "outputs": [
    {
     "data": {
      "text/html": [
       "<div>\n",
       "<style scoped>\n",
       "    .dataframe tbody tr th:only-of-type {\n",
       "        vertical-align: middle;\n",
       "    }\n",
       "\n",
       "    .dataframe tbody tr th {\n",
       "        vertical-align: top;\n",
       "    }\n",
       "\n",
       "    .dataframe thead th {\n",
       "        text-align: right;\n",
       "    }\n",
       "</style>\n",
       "<table border=\"1\" class=\"dataframe\">\n",
       "  <thead>\n",
       "    <tr style=\"text-align: right;\">\n",
       "      <th></th>\n",
       "      <th>prob_pos</th>\n",
       "      <th>prob_neu</th>\n",
       "      <th>prob_neg</th>\n",
       "    </tr>\n",
       "    <tr>\n",
       "      <th>rating</th>\n",
       "      <th></th>\n",
       "      <th></th>\n",
       "      <th></th>\n",
       "    </tr>\n",
       "  </thead>\n",
       "  <tbody>\n",
       "    <tr>\n",
       "      <th>1</th>\n",
       "      <td>0.0060</td>\n",
       "      <td>0.1265</td>\n",
       "      <td>0.7535</td>\n",
       "    </tr>\n",
       "    <tr>\n",
       "      <th>2</th>\n",
       "      <td>0.0085</td>\n",
       "      <td>0.2625</td>\n",
       "      <td>0.3925</td>\n",
       "    </tr>\n",
       "    <tr>\n",
       "      <th>3</th>\n",
       "      <td>0.0170</td>\n",
       "      <td>0.8880</td>\n",
       "      <td>0.0020</td>\n",
       "    </tr>\n",
       "    <tr>\n",
       "      <th>4</th>\n",
       "      <td>0.9525</td>\n",
       "      <td>0.0325</td>\n",
       "      <td>0.0030</td>\n",
       "    </tr>\n",
       "    <tr>\n",
       "      <th>5</th>\n",
       "      <td>0.9685</td>\n",
       "      <td>0.0220</td>\n",
       "      <td>0.0020</td>\n",
       "    </tr>\n",
       "  </tbody>\n",
       "</table>\n",
       "</div>"
      ],
      "text/plain": [
       "        prob_pos  prob_neu  prob_neg\n",
       "rating                              \n",
       "1         0.0060    0.1265    0.7535\n",
       "2         0.0085    0.2625    0.3925\n",
       "3         0.0170    0.8880    0.0020\n",
       "4         0.9525    0.0325    0.0030\n",
       "5         0.9685    0.0220    0.0020"
      ]
     },
     "execution_count": 23,
     "metadata": {},
     "output_type": "execute_result"
    }
   ],
   "source": [
    "df_dacy.groupby('rating').median(numeric_only=True)"
   ]
  },
  {
   "attachments": {},
   "cell_type": "markdown",
   "metadata": {},
   "source": [
    "Ratings of 1 and especially 2 have a disproportionate amount of neutral words. Neutral and positive have practically 0 negative sentiment.\n",
    "\n",
    "We could set the threshold for what counts as negative as low as 0.15 potentially."
   ]
  },
  {
   "cell_type": "code",
   "execution_count": 24,
   "metadata": {},
   "outputs": [
    {
     "data": {
      "text/html": [
       "<div>\n",
       "<style scoped>\n",
       "    .dataframe tbody tr th:only-of-type {\n",
       "        vertical-align: middle;\n",
       "    }\n",
       "\n",
       "    .dataframe tbody tr th {\n",
       "        vertical-align: top;\n",
       "    }\n",
       "\n",
       "    .dataframe thead th {\n",
       "        text-align: right;\n",
       "    }\n",
       "</style>\n",
       "<table border=\"1\" class=\"dataframe\">\n",
       "  <thead>\n",
       "    <tr style=\"text-align: right;\">\n",
       "      <th></th>\n",
       "      <th>prob_pos</th>\n",
       "      <th>prob_neu</th>\n",
       "      <th>prob_neg</th>\n",
       "    </tr>\n",
       "    <tr>\n",
       "      <th>rating</th>\n",
       "      <th></th>\n",
       "      <th></th>\n",
       "      <th></th>\n",
       "    </tr>\n",
       "  </thead>\n",
       "  <tbody>\n",
       "    <tr>\n",
       "      <th>1</th>\n",
       "      <td>0.0090</td>\n",
       "      <td>0.9690</td>\n",
       "      <td>0.0110</td>\n",
       "    </tr>\n",
       "    <tr>\n",
       "      <th>2</th>\n",
       "      <td>0.0070</td>\n",
       "      <td>0.9620</td>\n",
       "      <td>0.0100</td>\n",
       "    </tr>\n",
       "    <tr>\n",
       "      <th>3</th>\n",
       "      <td>0.7175</td>\n",
       "      <td>0.1290</td>\n",
       "      <td>0.0045</td>\n",
       "    </tr>\n",
       "    <tr>\n",
       "      <th>4</th>\n",
       "      <td>0.0135</td>\n",
       "      <td>0.8905</td>\n",
       "      <td>0.0085</td>\n",
       "    </tr>\n",
       "    <tr>\n",
       "      <th>5</th>\n",
       "      <td>0.0120</td>\n",
       "      <td>0.9495</td>\n",
       "      <td>0.0030</td>\n",
       "    </tr>\n",
       "  </tbody>\n",
       "</table>\n",
       "</div>"
      ],
      "text/plain": [
       "        prob_pos  prob_neu  prob_neg\n",
       "rating                              \n",
       "1         0.0090    0.9690    0.0110\n",
       "2         0.0070    0.9620    0.0100\n",
       "3         0.7175    0.1290    0.0045\n",
       "4         0.0135    0.8905    0.0085\n",
       "5         0.0120    0.9495    0.0030"
      ]
     },
     "execution_count": 24,
     "metadata": {},
     "output_type": "execute_result"
    }
   ],
   "source": [
    "df_dacy[df_dacy['sentiment'] != df_dacy['predicted']].groupby('rating').median(numeric_only=True)"
   ]
  },
  {
   "attachments": {},
   "cell_type": "markdown",
   "metadata": {},
   "source": [
    "Almost everything that was misclassified had extremely high neutral sentiment."
   ]
  },
  {
   "cell_type": "code",
   "execution_count": 26,
   "metadata": {},
   "outputs": [],
   "source": [
    "def plot_probabilities(df: pd.DataFrame):\n",
    "    grouped = df.groupby('rating').mean(numeric_only=True)\n",
    "    # grouped = grouped.rolling(3, center=True).mean()\n",
    "    plt.plot(grouped['prob_neg'], label='Negative')\n",
    "    plt.plot(grouped['prob_neu'], label='Neutral')\n",
    "    plt.plot(grouped['prob_pos'], label='Positive')\n",
    "    plt.xlabel('Rating')\n",
    "    plt.ylabel('Probability')\n",
    "    plt.legend()\n",
    "    plt.show()"
   ]
  },
  {
   "cell_type": "code",
   "execution_count": 27,
   "metadata": {},
   "outputs": [],
   "source": [
    "def plot_probabilities_smooth(df: pd.DataFrame):\n",
    "    grouped = df.groupby('rating').mean(numeric_only=True)\n",
    "\n",
    "    # create the x and y values for the spline interpolation\n",
    "    x = grouped.index\n",
    "    y_neg = grouped['prob_neg']\n",
    "    y_neu = grouped['prob_neu']\n",
    "    y_pos = grouped['prob_pos']\n",
    "\n",
    "    # define the range of x values for the smoothed curve\n",
    "    x_smooth = np.linspace(x.min(), x.max(), 100)\n",
    "\n",
    "    # perform spline interpolation for each sentiment\n",
    "    f_neg = interp1d(x, y_neg, kind='cubic')\n",
    "    f_pos = interp1d(x, y_pos, kind='cubic')\n",
    "    f_neu = interp1d(x, y_neu, kind='cubic')\n",
    "\n",
    "    # create the smoothed line bands for each sentiment\n",
    "    plt.plot(x_smooth, f_neg(x_smooth), label='Negative')\n",
    "    plt.plot(x_smooth, f_neu(x_smooth), label='Neutral')\n",
    "    plt.plot(x_smooth, f_pos(x_smooth), label='Positive')\n",
    "\n",
    "    # add axis labels and legend\n",
    "    plt.xlabel('Rating')\n",
    "    plt.ylabel('Probability')\n",
    "    plt.legend()\n",
    "\n",
    "    # show the plot\n",
    "    plt.show()"
   ]
  },
  {
   "cell_type": "code",
   "execution_count": 28,
   "metadata": {},
   "outputs": [
    {
     "data": {
      "image/png": "[encoded data removed]",
      "text/plain": [
       "<Figure size 640x480 with 1 Axes>"
      ]
     },
     "metadata": {},
     "output_type": "display_data"
    }
   ],
   "source": [
    "plot_probabilities(df_dacy)"
   ]
  },
  {
   "cell_type": "code",
   "execution_count": 29,
   "metadata": {},
   "outputs": [
    {
     "data": {
      "image/png": "[encoded data removed]",
      "text/plain": [
       "<Figure size 640x480 with 1 Axes>"
      ]
     },
     "metadata": {},
     "output_type": "display_data"
    }
   ],
   "source": [
    "plot_probabilities_smooth(df_dacy)"
   ]
  },
  {
   "attachments": {},
   "cell_type": "markdown",
   "metadata": {},
   "source": [
    "## Adjust model\n",
    "It may be possible to fine-tune the model to better fit our data, but we are not sure how to.\n",
    "\n",
    "It is easier to just use the existing model, but add a function to correct the prediction according to certain thresholds."
   ]
  },
  {
   "cell_type": "code",
   "execution_count": 30,
   "metadata": {},
   "outputs": [],
   "source": [
    "def correct_sentiment(row):\n",
    "    if row['predicted'] == 'neutral' and row['prob_pos'] < 0.15 <= row['prob_neg']:\n",
    "        return 'negative'"
   ]
  },
  {
   "cell_type": "code",
   "execution_count": 31,
   "metadata": {},
   "outputs": [],
   "source": [
    "df_dacy['corrected'] = df_dacy.apply(correct_sentiment, axis=1)"
   ]
  },
  {
   "cell_type": "code",
   "execution_count": 32,
   "metadata": {},
   "outputs": [
    {
     "name": "stdout",
     "output_type": "stream",
     "text": [
      "Corrections: 21\n",
      "Still wrong: 166\n"
     ]
    }
   ],
   "source": [
    "wrong_predictions = df_dacy['sentiment'] != df_dacy['predicted']\n",
    "corrections = df_dacy['corrected'].notna()\n",
    "wrong_corrections = df_dacy['sentiment'] != df_dacy['corrected']\n",
    "\n",
    "print('Corrections:', df_dacy[corrections].shape[0])\n",
    "print('Still wrong:', df_dacy[wrong_predictions & ~corrections].shape[0])"
   ]
  },
  {
   "cell_type": "code",
   "execution_count": 33,
   "metadata": {},
   "outputs": [
    {
     "data": {
      "text/html": [
       "<div>\n",
       "<style scoped>\n",
       "    .dataframe tbody tr th:only-of-type {\n",
       "        vertical-align: middle;\n",
       "    }\n",
       "\n",
       "    .dataframe tbody tr th {\n",
       "        vertical-align: top;\n",
       "    }\n",
       "\n",
       "    .dataframe thead th {\n",
       "        text-align: right;\n",
       "    }\n",
       "</style>\n",
       "<table border=\"1\" class=\"dataframe\">\n",
       "  <thead>\n",
       "    <tr style=\"text-align: right;\">\n",
       "      <th></th>\n",
       "      <th>title</th>\n",
       "      <th>body</th>\n",
       "      <th>rating</th>\n",
       "      <th>sentiment</th>\n",
       "      <th>predicted</th>\n",
       "      <th>prob_pos</th>\n",
       "      <th>prob_neu</th>\n",
       "      <th>prob_neg</th>\n",
       "      <th>corrected</th>\n",
       "    </tr>\n",
       "  </thead>\n",
       "  <tbody>\n",
       "    <tr>\n",
       "      <th>47</th>\n",
       "      <td>Fint forløb</td>\n",
       "      <td>Ingen problemet</td>\n",
       "      <td>5</td>\n",
       "      <td>positive</td>\n",
       "      <td>neutral</td>\n",
       "      <td>0.005</td>\n",
       "      <td>0.656</td>\n",
       "      <td>0.340</td>\n",
       "      <td>negative</td>\n",
       "    </tr>\n",
       "    <tr>\n",
       "      <th>213</th>\n",
       "      <td>Ekspedit, hurtigt som lynet</td>\n",
       "      <td>Fungerer upåklageligt.</td>\n",
       "      <td>5</td>\n",
       "      <td>positive</td>\n",
       "      <td>neutral</td>\n",
       "      <td>0.035</td>\n",
       "      <td>0.738</td>\n",
       "      <td>0.227</td>\n",
       "      <td>negative</td>\n",
       "    </tr>\n",
       "  </tbody>\n",
       "</table>\n",
       "</div>"
      ],
      "text/plain": [
       "                           title                    body  rating sentiment  \\\n",
       "47                   Fint forløb         Ingen problemet       5  positive   \n",
       "213  Ekspedit, hurtigt som lynet  Fungerer upåklageligt.       5  positive   \n",
       "\n",
       "    predicted  prob_pos  prob_neu  prob_neg corrected  \n",
       "47    neutral     0.005     0.656     0.340  negative  \n",
       "213   neutral     0.035     0.738     0.227  negative  "
      ]
     },
     "execution_count": 33,
     "metadata": {},
     "output_type": "execute_result"
    }
   ],
   "source": [
    "df_dacy[wrong_corrections & corrections]"
   ]
  },
  {
   "cell_type": "code",
   "execution_count": 34,
   "metadata": {},
   "outputs": [
    {
     "data": {
      "text/plain": [
       "rating\n",
       "5    74\n",
       "1    73\n",
       "4     8\n",
       "3     6\n",
       "2     5\n",
       "dtype: int64"
      ]
     },
     "execution_count": 34,
     "metadata": {},
     "output_type": "execute_result"
    }
   ],
   "source": [
    "df_dacy[wrong_predictions & ~corrections].value_counts('rating')"
   ]
  },
  {
   "cell_type": "code",
   "execution_count": 35,
   "metadata": {},
   "outputs": [
    {
     "data": {
      "text/html": [
       "<div>\n",
       "<style scoped>\n",
       "    .dataframe tbody tr th:only-of-type {\n",
       "        vertical-align: middle;\n",
       "    }\n",
       "\n",
       "    .dataframe tbody tr th {\n",
       "        vertical-align: top;\n",
       "    }\n",
       "\n",
       "    .dataframe thead th {\n",
       "        text-align: right;\n",
       "    }\n",
       "</style>\n",
       "<table border=\"1\" class=\"dataframe\">\n",
       "  <thead>\n",
       "    <tr style=\"text-align: right;\">\n",
       "      <th></th>\n",
       "      <th>prob_pos</th>\n",
       "      <th>prob_neu</th>\n",
       "      <th>prob_neg</th>\n",
       "    </tr>\n",
       "    <tr>\n",
       "      <th>rating</th>\n",
       "      <th></th>\n",
       "      <th></th>\n",
       "      <th></th>\n",
       "    </tr>\n",
       "  </thead>\n",
       "  <tbody>\n",
       "    <tr>\n",
       "      <th>1</th>\n",
       "      <td>0.0070</td>\n",
       "      <td>0.9840</td>\n",
       "      <td>0.0050</td>\n",
       "    </tr>\n",
       "    <tr>\n",
       "      <th>2</th>\n",
       "      <td>0.0050</td>\n",
       "      <td>0.9830</td>\n",
       "      <td>0.0080</td>\n",
       "    </tr>\n",
       "    <tr>\n",
       "      <th>3</th>\n",
       "      <td>0.7175</td>\n",
       "      <td>0.1290</td>\n",
       "      <td>0.0045</td>\n",
       "    </tr>\n",
       "    <tr>\n",
       "      <th>4</th>\n",
       "      <td>0.0135</td>\n",
       "      <td>0.8905</td>\n",
       "      <td>0.0085</td>\n",
       "    </tr>\n",
       "    <tr>\n",
       "      <th>5</th>\n",
       "      <td>0.0120</td>\n",
       "      <td>0.9575</td>\n",
       "      <td>0.0030</td>\n",
       "    </tr>\n",
       "  </tbody>\n",
       "</table>\n",
       "</div>"
      ],
      "text/plain": [
       "        prob_pos  prob_neu  prob_neg\n",
       "rating                              \n",
       "1         0.0070    0.9840    0.0050\n",
       "2         0.0050    0.9830    0.0080\n",
       "3         0.7175    0.1290    0.0045\n",
       "4         0.0135    0.8905    0.0085\n",
       "5         0.0120    0.9575    0.0030"
      ]
     },
     "execution_count": 35,
     "metadata": {},
     "output_type": "execute_result"
    }
   ],
   "source": [
    "df_dacy[wrong_predictions & ~corrections].groupby('rating').median(numeric_only=True)"
   ]
  },
  {
   "attachments": {},
   "cell_type": "markdown",
   "metadata": {},
   "source": [
    "There's still a lot that weren't corrected, and they have extremely high neutral and almost nothing positive or negative for us to grab unto."
   ]
  },
  {
   "cell_type": "code",
   "execution_count": 36,
   "metadata": {
    "scrolled": true
   },
   "outputs": [
    {
     "data": {
      "text/plain": [
       "[]"
      ]
     },
     "execution_count": 36,
     "metadata": {},
     "output_type": "execute_result"
    },
    {
     "data": {
      "image/png": "[encoded data removed]",
      "text/plain": [
       "<Figure size 640x480 with 2 Axes>"
      ]
     },
     "metadata": {},
     "output_type": "display_data"
    }
   ],
   "source": [
    "# confusion matrix for the corrected predictions\n",
    "new_y_pred = df_dacy['corrected'].fillna(df_dacy['predicted'])\n",
    "ConfusionMatrixDisplay.from_predictions(y_test, new_y_pred)\n",
    "plt.plot()"
   ]
  },
  {
   "attachments": {},
   "cell_type": "markdown",
   "metadata": {},
   "source": [
    "It might not be good enough still."
   ]
  }
 ],
 "metadata": {
  "kernelspec": {
   "display_name": "Python 3 (ipykernel)",
   "language": "python",
   "name": "python3"
  },
  "language_info": {
   "codemirror_mode": {
    "name": "ipython",
    "version": 3
   },
   "file_extension": ".py",
   "mimetype": "text/x-python",
   "name": "python",
   "nbconvert_exporter": "python",
   "pygments_lexer": "ipython3",
   "version": "3.9.16"
  }
 },
 "nbformat": 4,
 "nbformat_minor": 2
}
