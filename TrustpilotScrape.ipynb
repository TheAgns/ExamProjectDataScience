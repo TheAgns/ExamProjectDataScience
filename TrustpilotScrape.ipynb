{
 "cells": [
  {
   "cell_type": "markdown",
   "id": "b69c076c",
   "metadata": {},
   "source": [
    "## In this part of the project we scrape data from Trustpilot, to get reviews from the different compaines"
   ]
  },
  {
   "cell_type": "markdown",
   "id": "64ab2e48",
   "metadata": {},
   "source": [
    "#### This method get_reviews loops through truspilot from the first site to site number hundred and return the reviews in a dict, with text and rating \"text\": ,\"5\""
   ]
  },
  {
   "cell_type": "code",
   "execution_count": 1,
   "id": "8860c706",
   "metadata": {},
   "outputs": [],
   "source": [
    "import requests\n",
    "from bs4 import BeautifulSoup\n",
    "\n",
    "def get_reviews(url):\n",
    "    texts = []\n",
    "    ratings = []\n",
    "    \n",
    "    for page in range(1, 101):\n",
    " \n",
    "        response = requests.get(f\"{url}?page={page}\")\n",
    "        soup = BeautifulSoup(response.content, \"html.parser\")\n",
    "\n",
    "        review_divs = soup.find_all(\"div\", {\"class\": \"styles_cardWrapper__LcCPA styles_show__HUXRb styles_reviewCard__9HxJJ\"})\n",
    "\n",
    "        for div in review_divs:\n",
    "            review_title = div.find(\"h2\", {\"class\": \"review-title\"})\n",
    "            review_stars_div = div.find(\"div\", {\"class\": \"styles_reviewHeader__iU9Px\"})\n",
    "\n",
    "            review_rating = review_stars_div['data-service-review-rating']\n",
    "\n",
    "            review_paragraph = div.find(\"p\")\n",
    "            texts.append(review_paragraph.text)\n",
    "            ratings.append(review_rating)\n",
    "\n",
    "    reviews = dict(zip(texts, ratings))\n",
    "    return reviews"
   ]
  },
  {
   "cell_type": "code",
   "execution_count": null,
   "id": "2a68f259",
   "metadata": {},
   "outputs": [],
   "source": []
  }
 ],
 "metadata": {
  "kernelspec": {
   "display_name": "Python 3 (ipykernel)",
   "language": "python",
   "name": "python3"
  },
  "language_info": {
   "codemirror_mode": {
    "name": "ipython",
    "version": 3
   },
   "file_extension": ".py",
   "mimetype": "text/x-python",
   "name": "python",
   "nbconvert_exporter": "python",
   "pygments_lexer": "ipython3",
   "version": "3.10.9"
  }
 },
 "nbformat": 4,
 "nbformat_minor": 5
}
